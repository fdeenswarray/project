{
 "cells": [
  {
   "cell_type": "markdown",
   "id": "6297cff0",
   "metadata": {},
   "source": [
    "# Predicting Customer Churn: Final Milestone\n",
    "This notebook explores customer churn prediction using the Telco dataset. It includes data cleaning, exploratory visualizations, model building (Logistic Regression, Random Forest, SVM), and hyperparameter tuning."
   ]
  },
  {
   "cell_type": "code",
   "execution_count": null,
   "id": "d4d07a80",
   "metadata": {},
   "outputs": [],
   "source": [
    "import pandas as pd\n",
    "import matplotlib.pyplot as plt\n",
    "import seaborn as sns\n",
    "from sklearn.model_selection import train_test_split, cross_val_score, GridSearchCV\n",
    "from sklearn.linear_model import LogisticRegression\n",
    "from sklearn.ensemble import RandomForestClassifier\n",
    "from sklearn.svm import SVC\n",
    "from sklearn.metrics import classification_report, confusion_matrix, roc_auc_score, RocCurveDisplay\n",
    "\n",
    "# Load data\n",
    "df = pd.read_csv(\"WA_Fn-UseC_-Telco-Customer-Churn (1).csv\")\n",
    "print(df.info())\n"
   ]
  },
  {
   "cell_type": "code",
   "execution_count": null,
   "id": "30d2012e",
   "metadata": {},
   "outputs": [],
   "source": [
    "# Clean TotalCharges\n",
    "df['TotalCharges'] = pd.to_numeric(df['TotalCharges'], errors='coerce')\n",
    "df = df.dropna(subset=['TotalCharges'])\n",
    "\n",
    "# Drop customerID\n",
    "df.drop('customerID', axis=1, inplace=True)\n",
    "\n",
    "# Convert target to binary\n",
    "df['Churn'] = df['Churn'].map({'Yes': 1, 'No': 0})\n",
    "\n",
    "# One-hot encode\n",
    "df = pd.get_dummies(df, drop_first=True)\n"
   ]
  },
  {
   "cell_type": "code",
   "execution_count": null,
   "id": "6b4a0729",
   "metadata": {},
   "outputs": [],
   "source": [
    "X = df.drop('Churn', axis=1)\n",
    "y = df['Churn']\n",
    "\n",
    "X_train, X_test, y_train, y_test = train_test_split(X, y, test_size=0.2, stratify=y, random_state=42)\n"
   ]
  },
  {
   "cell_type": "code",
   "execution_count": null,
   "id": "b133d8cc",
   "metadata": {},
   "outputs": [],
   "source": [
    "models = {\n",
    "    'Logistic Regression': LogisticRegression(max_iter=1000),\n",
    "    'Random Forest': RandomForestClassifier(),\n",
    "    'SVM': SVC(probability=True)\n",
    "}\n",
    "\n",
    "for name, model in models.items():\n",
    "    scores = cross_val_score(model, X_train, y_train, cv=5, scoring='roc_auc')\n",
    "    print(f\"{name}: Mean AUC = {scores.mean():.3f}, Std = {scores.std():.3f}\")\n"
   ]
  },
  {
   "cell_type": "code",
   "execution_count": null,
   "id": "332a04b9",
   "metadata": {},
   "outputs": [],
   "source": [
    "param_grid = {\n",
    "    'n_estimators': [100, 200],\n",
    "    'max_depth': [None, 10],\n",
    "    'min_samples_split': [2, 5]\n",
    "}\n",
    "grid_rf = GridSearchCV(RandomForestClassifier(), param_grid, cv=5, scoring='roc_auc')\n",
    "grid_rf.fit(X_train, y_train)\n",
    "\n",
    "print(\"Best Score:\", grid_rf.best_score_)\n",
    "print(\"Best Params:\", grid_rf.best_params_)\n"
   ]
  },
  {
   "cell_type": "code",
   "execution_count": null,
   "id": "f1786e4e",
   "metadata": {},
   "outputs": [],
   "source": [
    "best_model = grid_rf.best_estimator_\n",
    "y_pred = best_model.predict(X_test)\n",
    "y_proba = best_model.predict_proba(X_test)[:, 1]\n",
    "\n",
    "print(confusion_matrix(y_test, y_pred))\n",
    "print(classification_report(y_test, y_pred))\n",
    "print(\"AUC-ROC Score:\", roc_auc_score(y_test, y_proba))\n",
    "\n",
    "RocCurveDisplay.from_estimator(best_model, X_test, y_test)\n",
    "plt.show()\n"
   ]
  },
  {
   "cell_type": "code",
   "execution_count": null,
   "id": "02e76896",
   "metadata": {},
   "outputs": [],
   "source": [
    "raw_data = pd.read_csv(\"WA_Fn-UseC_-Telco-Customer-Churn (1).csv\")\n",
    "plt.figure(figsize=(10, 6))\n",
    "sns.histplot(data=raw_data, x='MonthlyCharges', hue='Churn', bins=30, kde=False, multiple='stack')\n",
    "plt.title(\"Monthly Charges Distribution by Churn Status\")\n",
    "plt.tight_layout()\n",
    "plt.show()\n"
   ]
  },
  {
   "cell_type": "markdown",
   "id": "ab69ad92",
   "metadata": {},
   "source": [
    "## Insights & Recommendations\n",
    "- Customers with high monthly charges are more likely to churn.\n",
    "- Fiber optic service and electronic check payments are associated with higher churn.\n",
    "- Long-term contracts and bundling services may reduce churn risk.\n",
    "- Use churn probability scoring for targeted retention campaigns.\n"
   ]
  }
 ],
 "metadata": {},
 "nbformat": 4,
 "nbformat_minor": 5
}
