{
 "cells": [
  {
   "cell_type": "markdown",
   "id": "f69e4e49",
   "metadata": {},
   "source": [
    "# Movie Recommendation System\n",
    "This notebook demonstrates how to build a hybrid movie recommendation system using collaborative filtering and content-based filtering techniques."
   ]
  },
  {
   "cell_type": "code",
   "execution_count": null,
   "id": "28561fd1",
   "metadata": {},
   "outputs": [],
   "source": [
    "import pandas as pd\n",
    "import numpy as np\n",
    "from sklearn.feature_extraction.text import TfidfVectorizer\n",
    "from sklearn.metrics.pairwise import cosine_similarity\n",
    "from surprise import Dataset, Reader, SVD\n",
    "from surprise.model_selection import train_test_split\n",
    "import matplotlib.pyplot as plt\n",
    "import seaborn as sns\n"
   ]
  },
  {
   "cell_type": "markdown",
   "id": "dcdae388",
   "metadata": {},
   "source": [
    "## Load and Preview Data"
   ]
  },
  {
   "cell_type": "code",
   "execution_count": null,
   "id": "a863aa2c",
   "metadata": {},
   "outputs": [],
   "source": [
    "# Load ratings and metadata files\n",
    "ratings = pd.read_csv('ratings.csv')\n",
    "movies = pd.read_csv('movies_metadata.csv', low_memory=False)\n",
    "keywords = pd.read_csv('keywords.csv')\n",
    "credits = pd.read_csv('credits.csv')\n",
    "\n",
    "# Preview datasets\n",
    "ratings.head()\n"
   ]
  },
  {
   "cell_type": "markdown",
   "id": "7a6daf35",
   "metadata": {},
   "source": [
    "## Data Cleaning"
   ]
  },
  {
   "cell_type": "code",
   "execution_count": null,
   "id": "75e519df",
   "metadata": {},
   "outputs": [],
   "source": [
    "# Convert movieId to numeric, dropping invalid rows\n",
    "movies['id'] = pd.to_numeric(movies['id'], errors='coerce')\n",
    "movies = movies.dropna(subset=['id'])\n",
    "movies['id'] = movies['id'].astype(int)\n",
    "\n",
    "# Merge datasets\n",
    "movies = movies[['id', 'title', 'overview']]\n",
    "ratings['movieId'] = ratings['movieId'].astype(int)\n",
    "merged = pd.merge(ratings, movies, left_on='movieId', right_on='id')\n",
    "merged.dropna(subset=['overview'], inplace=True)\n",
    "\n",
    "merged.head()\n"
   ]
  },
  {
   "cell_type": "markdown",
   "id": "99ea9622",
   "metadata": {},
   "source": [
    "## Collaborative Filtering with SVD"
   ]
  },
  {
   "cell_type": "code",
   "execution_count": null,
   "id": "ab31dbf0",
   "metadata": {},
   "outputs": [],
   "source": [
    "reader = Reader(rating_scale=(0.5, 5.0))\n",
    "data = Dataset.load_from_df(ratings[['userId', 'movieId', 'rating']], reader)\n",
    "trainset, testset = train_test_split(data, test_size=0.2)\n",
    "\n",
    "model = SVD()\n",
    "model.fit(trainset)\n",
    "predictions = model.test(testset)\n",
    "\n",
    "from surprise import accuracy\n",
    "rmse = accuracy.rmse(predictions)\n",
    "print(f\"RMSE: {rmse}\")\n"
   ]
  },
  {
   "cell_type": "markdown",
   "id": "13d22569",
   "metadata": {},
   "source": [
    "## Content-Based Filtering with TF-IDF"
   ]
  },
  {
   "cell_type": "code",
   "execution_count": null,
   "id": "7c4f8e99",
   "metadata": {},
   "outputs": [],
   "source": [
    "tfidf = TfidfVectorizer(stop_words='english')\n",
    "movies['overview'] = movies['overview'].fillna('')\n",
    "tfidf_matrix = tfidf.fit_transform(movies['overview'])\n",
    "\n",
    "cosine_sim = cosine_similarity(tfidf_matrix, tfidf_matrix)\n",
    "indices = pd.Series(movies.index, index=movies['title']).drop_duplicates()\n",
    "\n",
    "def get_recommendations(title, cosine_sim=cosine_sim):\n",
    "    idx = indices[title]\n",
    "    sim_scores = list(enumerate(cosine_sim[idx]))\n",
    "    sim_scores = sorted(sim_scores, key=lambda x: x[1], reverse=True)\n",
    "    sim_scores = sim_scores[1:11]\n",
    "    movie_indices = [i[0] for i in sim_scores]\n",
    "    return movies['title'].iloc[movie_indices]\n",
    "\n",
    "get_recommendations('The Dark Knight')\n"
   ]
  },
  {
   "cell_type": "markdown",
   "id": "3098ae29",
   "metadata": {},
   "source": [
    "## Hybrid Recommendation System"
   ]
  },
  {
   "cell_type": "code",
   "execution_count": null,
   "id": "36d80ec0",
   "metadata": {},
   "outputs": [],
   "source": [
    "def hybrid_recommendation(user_id, title, model, cosine_sim=cosine_sim):\n",
    "    idx = indices[title]\n",
    "    sim_scores = list(enumerate(cosine_sim[idx]))\n",
    "    sim_scores = sorted(sim_scores, key=lambda x: x[1], reverse=True)\n",
    "    sim_scores = sim_scores[1:26]\n",
    "    movie_indices = [i[0] for i in sim_scores]\n",
    "\n",
    "    movie_ids = movies['id'].iloc[movie_indices]\n",
    "    titles = movies['title'].iloc[movie_indices]\n",
    "\n",
    "    hybrid_scores = []\n",
    "    for mid, t in zip(movie_ids, titles):\n",
    "        est = model.predict(user_id, int(mid)).est\n",
    "        content_sim = cosine_sim[idx][movies.index[movies['id'] == mid].tolist()[0]]\n",
    "        score = (0.7 * est) + (0.3 * content_sim)\n",
    "        hybrid_scores.append((t, score))\n",
    "\n",
    "    hybrid_scores = sorted(hybrid_scores, key=lambda x: x[1], reverse=True)\n",
    "    return [x[0] for x in hybrid_scores[:10]]\n",
    "\n",
    "hybrid_recommendation(1, 'The Dark Knight', model)\n"
   ]
  },
  {
   "cell_type": "markdown",
   "id": "33e78755",
   "metadata": {},
   "source": [
    "## Visualizations"
   ]
  },
  {
   "cell_type": "code",
   "execution_count": null,
   "id": "33294ddf",
   "metadata": {},
   "outputs": [],
   "source": [
    "plt.figure(figsize=(8,4))\n",
    "sns.histplot(ratings['rating'], bins=20, kde=True, color='steelblue')\n",
    "plt.title('User Rating Distribution')\n",
    "plt.xlabel('Rating')\n",
    "plt.ylabel('Frequency')\n",
    "plt.show()\n"
   ]
  },
  {
   "cell_type": "code",
   "execution_count": null,
   "id": "b9fb124b",
   "metadata": {},
   "outputs": [],
   "source": [
    "popular_movies = ratings.groupby('movieId').size().sort_values(ascending=False).head(10)\n",
    "popular_movie_titles = movies[movies['id'].isin(popular_movies.index)][['id', 'title']]\n",
    "popular_movie_titles['count'] = popular_movies.values\n",
    "\n",
    "plt.figure(figsize=(10,5))\n",
    "sns.barplot(x='count', y='title', data=popular_movie_titles, palette='muted')\n",
    "plt.title('Top 10 Most Rated Movies')\n",
    "plt.xlabel('Rating Count')\n",
    "plt.ylabel('Movie Title')\n",
    "plt.show()\n"
   ]
  }
 ],
 "metadata": {},
 "nbformat": 4,
 "nbformat_minor": 5
}
