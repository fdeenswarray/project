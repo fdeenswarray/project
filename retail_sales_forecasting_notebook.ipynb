{
 "cells": [
  {
   "cell_type": "code",
   "execution_count": null,
   "id": "5d04be5d",
   "metadata": {},
   "outputs": [],
   "source": [
    "# Retail Sales Forecasting - Jupyter Notebook Version"
   ]
  },
  {
   "cell_type": "code",
   "execution_count": null,
   "id": "b5a3ed10",
   "metadata": {},
   "outputs": [],
   "source": [
    "import pandas as pd\n",
    "import matplotlib.pyplot as plt\n",
    "import seaborn as sns\n",
    "from statsmodels.tsa.seasonal import seasonal_decompose\n",
    "from sklearn.ensemble import GradientBoostingRegressor\n",
    "from sklearn.model_selection import train_test_split\n",
    "from sklearn.preprocessing import LabelEncoder"
   ]
  },
  {
   "cell_type": "code",
   "execution_count": null,
   "id": "3eebff09",
   "metadata": {},
   "outputs": [],
   "source": [
    "# Load datasets\n",
    "sales_df = pd.read_csv(\"train.csv\")\n",
    "features_df = pd.read_csv(\"features.csv\")"
   ]
  },
  {
   "cell_type": "code",
   "execution_count": null,
   "id": "b694f75c",
   "metadata": {},
   "outputs": [],
   "source": [
    "# Preprocess dates\n",
    "sales_df['Date'] = pd.to_datetime(sales_df['Date'])\n",
    "features_df['Date'] = pd.to_datetime(features_df['Date'])"
   ]
  },
  {
   "cell_type": "code",
   "execution_count": null,
   "id": "c1b11b04",
   "metadata": {},
   "outputs": [],
   "source": [
    "# 1. Total Weekly Sales Visualization\n",
    "weekly_sales = sales_df.groupby(\"Date\")[\"Weekly_Sales\"].sum().reset_index()\n",
    "plt.figure(figsize=(12, 6))\n",
    "plt.plot(weekly_sales[\"Date\"], weekly_sales[\"Weekly_Sales\"], label=\"Total Weekly Sales\", color=\"blue\")\n",
    "plt.title(\"Total Weekly Sales Over Time (All Stores)\")\n",
    "plt.xlabel(\"Date\")\n",
    "plt.ylabel(\"Weekly Sales (USD)\")\n",
    "plt.grid(True)\n",
    "plt.tight_layout()\n",
    "plt.savefig(\"plot_sales.png\")\n",
    "plt.show()"
   ]
  },
  {
   "cell_type": "code",
   "execution_count": null,
   "id": "beacc241",
   "metadata": {},
   "outputs": [],
   "source": [
    "# 2. Seasonal Decomposition\n",
    "weekly_sales.set_index(\"Date\", inplace=True)\n",
    "weekly_sales = weekly_sales.asfreq(\"W\")\n",
    "weekly_sales[\"Weekly_Sales\"] = weekly_sales[\"Weekly_Sales\"].interpolate().fillna(method=\"ffill\").fillna(method=\"bfill\")\n",
    "decomposition = seasonal_decompose(weekly_sales[\"Weekly_Sales\"], model=\"additive\", period=26)\n",
    "fig = decomposition.plot()\n",
    "fig.set_size_inches(12, 8)\n",
    "plt.savefig(\"plot_decomposition.png\")\n",
    "plt.show()"
   ]
  },
  {
   "cell_type": "code",
   "execution_count": null,
   "id": "5340caeb",
   "metadata": {},
   "outputs": [],
   "source": [
    "# 3. Forecast vs Actual using rolling average\n",
    "weekly_sales[\"Forecast\"] = weekly_sales[\"Weekly_Sales\"].rolling(window=8).mean()\n",
    "plt.figure(figsize=(12, 6))\n",
    "plt.plot(weekly_sales.index, weekly_sales[\"Weekly_Sales\"], label=\"Actual Sales\")\n",
    "plt.plot(weekly_sales.index, weekly_sales[\"Forecast\"], label=\"Rolling Forecast\")\n",
    "plt.title(\"Forecast vs Actual Sales\")\n",
    "plt.legend()\n",
    "plt.grid(True)\n",
    "plt.tight_layout()\n",
    "plt.savefig(\"plot_forecast.png\")\n",
    "plt.show()"
   ]
  },
  {
   "cell_type": "code",
   "execution_count": null,
   "id": "d2a5bd63",
   "metadata": {},
   "outputs": [],
   "source": [
    "# 4. Feature Importance with Gradient Boosting\n",
    "merged_df = pd.merge(sales_df, features_df, on=['Store', 'Date', 'IsHoliday'])\n",
    "model_df = merged_df.drop(columns=['Weekly_Sales', 'Date'])\n",
    "for col in model_df.select_dtypes(include='object').columns:\n",
    "    model_df[col] = LabelEncoder().fit_transform(model_df[col].astype(str))\n",
    "X = model_df.dropna()\n",
    "y = merged_df.loc[X.index, 'Weekly_Sales']\n",
    "X_train, X_test, y_train, y_test = train_test_split(X, y, test_size=0.2, random_state=42)\n",
    "model = GradientBoostingRegressor()\n",
    "model.fit(X_train, y_train)\n",
    "importances = pd.Series(model.feature_importances_, index=X.columns).sort_values(ascending=False)\n",
    "plt.figure(figsize=(10, 6))\n",
    "sns.barplot(x=importances.values, y=importances.index, palette=\"viridis\")\n",
    "plt.title(\"Feature Importance (Gradient Boosting)\")\n",
    "plt.xlabel(\"Importance Score\")\n",
    "plt.ylabel(\"Feature\")\n",
    "plt.tight_layout()\n",
    "plt.savefig(\"plot_importance.png\")\n",
    "plt.show()"
   ]
  }
 ],
 "metadata": {},
 "nbformat": 4,
 "nbformat_minor": 5
}
